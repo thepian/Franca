{
 "cells": [
  {
   "cell_type": "markdown",
   "metadata": {},
   "source": [
    "# Quick Setup Test\n",
    "\n",
    "Test that the uv environment is working correctly in VS Code."
   ]
  },
  {
   "cell_type": "code",
   "execution_count": null,
   "metadata": {},
   "outputs": [],
   "source": [
    "# Test basic imports\n",
    "import sys\n",
    "import os\n",
    "\n",
    "print(f\"Python executable: {sys.executable}\")\n",
    "print(f\"Python version: {sys.version}\")\n",
    "print(f\"Current directory: {os.getcwd()}\")\n",
    "\n",
    "# Check if we're in the uv environment\n",
    "if '.venv' in sys.executable:\n",
    "    print(\"✅ Using uv virtual environment!\")\n",
    "else:\n",
    "    print(\"❌ Not using uv virtual environment\")"
   ]
  },
  {
   "cell_type": "code",
   "execution_count": null,
   "metadata": {},
   "outputs": [],
   "source": [
    "# Test Core ML Tools\n",
    "try:\n",
    "    import coremltools as ct\n",
    "    print(f\"✅ Core ML Tools version: {ct.__version__}\")\n",
    "except ImportError as e:\n",
    "    print(f\"❌ Core ML Tools not available: {e}\")"
   ]
  },
  {
   "cell_type": "code",
   "execution_count": null,
   "metadata": {},
   "outputs": [],
   "source": [
    "# Test visualization libraries\n",
    "try:\n",
    "    import matplotlib.pyplot as plt\n",
    "    import numpy as np\n",
    "    \n",
    "    # Simple test plot\n",
    "    x = np.linspace(0, 10, 100)\n",
    "    y = np.sin(x)\n",
    "    \n",
    "    plt.figure(figsize=(8, 4))\n",
    "    plt.plot(x, y)\n",
    "    plt.title('Test Plot - Matplotlib Working!')\n",
    "    plt.xlabel('X')\n",
    "    plt.ylabel('sin(X)')\n",
    "    plt.grid(True, alpha=0.3)\n",
    "    plt.show()\n",
    "    \n",
    "    print(\"✅ Matplotlib working!\")\n",
    "except ImportError as e:\n",
    "    print(f\"❌ Matplotlib not available: {e}\")"
   ]
  },
  {
   "cell_type": "code",
   "execution_count": null,
   "metadata": {},
   "outputs": [],
   "source": [
    "# Test if Core ML model exists\n",
    "model_path = \"../coreml_models/franca_vitb14_in21k_fp32.mlpackage\"\n",
    "\n",
    "if os.path.exists(model_path):\n",
    "    print(f\"✅ Core ML model found: {model_path}\")\n",
    "    \n",
    "    # Try loading it\n",
    "    try:\n",
    "        model = ct.models.MLModel(model_path)\n",
    "        print(\"✅ Core ML model loads successfully!\")\n",
    "        print(\"🎉 Ready to run Franca evaluation!\")\n",
    "    except Exception as e:\n",
    "        print(f\"❌ Error loading model: {e}\")\nelse:\n",
    "    print(f\"❌ Core ML model not found: {model_path}\")\n",
    "    print(\"Run ../scripts/export_coreml_hub.py first\")"
   ]
  }
 ],
 "metadata": {
  "kernelspec": {
   "display_name": "Python 3",\n   "language": "python",\n   "name": "python3"\n  },\n  "language_info": {\n   "codemirror_mode": {\n    "name": "ipython",\n    "version": 3\n   },\n   "file_extension": ".py",\n   "mimetype": "text/x-python",\n   "name": "python",\n   "nbconvert_exporter": "python",\n   "pygments_lexer": "ipython3",\n   "version": "3.10.8"\n  }\n },\n "nbformat": 4,\n "nbformat_minor": 4\n}
